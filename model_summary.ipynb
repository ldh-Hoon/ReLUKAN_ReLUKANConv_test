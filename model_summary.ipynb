{
 "cells": [
  {
   "cell_type": "markdown",
   "metadata": {},
   "source": [
    "# imports"
   ]
  },
  {
   "cell_type": "code",
   "execution_count": 2,
   "metadata": {},
   "outputs": [
    {
     "name": "stdout",
     "output_type": "stream",
     "text": [
      "42000 6000 12000\n",
      "CNN_MLP\n",
      "CNN_ReLUKAN_grow\n"
     ]
    },
    {
     "name": "stderr",
     "output_type": "stream",
     "text": [
      "c:\\Users\\User\\Documents\\projects\\KAN_test\\ReLU_KAN.py:26: TracerWarning: Using len to get tensor shape might cause the trace to be incorrect. Recommended usage would be tensor.shape[0]. Passing a tensor of different shape might lead to errors or silently give incorrect results.\n",
      "  x = x.reshape((len(x), 1, self.g + self.k, self.input_size))\n",
      "c:\\Users\\User\\Documents\\projects\\KAN_test\\ReLU_KAN.py:29: TracerWarning: Using len to get tensor shape might cause the trace to be incorrect. Recommended usage would be tensor.shape[0]. Passing a tensor of different shape might lead to errors or silently give incorrect results.\n",
      "  x = x.reshape((len(x), self.output_size))\n"
     ]
    },
    {
     "name": "stdout",
     "output_type": "stream",
     "text": [
      "CNN_ReLUKAN_nogrow\n",
      "CNN_MLP_grow\n",
      "CNN_MLP_nogrow\n",
      "CNN_ReLUKAN\n",
      "CNN_SiLUKAN\n"
     ]
    },
    {
     "name": "stderr",
     "output_type": "stream",
     "text": [
      "c:\\Users\\User\\Documents\\projects\\KAN_test\\SiLU_KAN.py:27: TracerWarning: Using len to get tensor shape might cause the trace to be incorrect. Recommended usage would be tensor.shape[0]. Passing a tensor of different shape might lead to errors or silently give incorrect results.\n",
      "  x = x.reshape((len(x), 1, self.g + self.k, self.input_size))\n",
      "c:\\Users\\User\\Documents\\projects\\KAN_test\\SiLU_KAN.py:30: TracerWarning: Using len to get tensor shape might cause the trace to be incorrect. Recommended usage would be tensor.shape[0]. Passing a tensor of different shape might lead to errors or silently give incorrect results.\n",
      "  x = x.reshape((len(x), self.output_size))\n"
     ]
    },
    {
     "name": "stdout",
     "output_type": "stream",
     "text": [
      "DenseMLP\n",
      "DenseReLUKAN\n",
      "DenseSiLUKAN\n",
      "ReLUKAN_Conv_MLP\n",
      "ReLUKAN_Conv_ReLUKAN\n"
     ]
    },
    {
     "name": "stderr",
     "output_type": "stream",
     "text": [
      "c:\\Users\\User\\anaconda3\\envs\\env\\lib\\site-packages\\torch\\onnx\\symbolic_opset11.py:899: UserWarning: This model contains a squeeze operation on dimension 1. The size of this dimension in the given input is 10. The model will be exported without the squeeze node. If the model is intended to be used with dynamic input shapes, please export with dynamic_axes argument.\n",
      "  warnings.warn(\n"
     ]
    },
    {
     "name": "stdout",
     "output_type": "stream",
     "text": [
      "Spiking_DenseMLP\n"
     ]
    },
    {
     "name": "stderr",
     "output_type": "stream",
     "text": [
      "c:\\Users\\User\\anaconda3\\envs\\env\\lib\\site-packages\\torch\\onnx\\symbolic_opset9.py:4279: UserWarning: Exporting a model to ONNX with a batch_size other than 1, with a variable length with LSTM can cause an error when running the ONNX model with a different batch size. Make sure to save the model with a batch size of 1, or define the initial states (h0/c0) as inputs of the model. \n",
      "  warnings.warn(\n"
     ]
    },
    {
     "name": "stdout",
     "output_type": "stream",
     "text": [
      "Spiking_DenseReLUKAN\n",
      "ViT\n"
     ]
    }
   ],
   "source": [
    "import os, importlib\n",
    "\n",
    "import torch\n",
    "import torch.nn as nn\n",
    "import torch.optim as optim\n",
    "import torch.onnx\n",
    "\n",
    "from torchvision import datasets, transforms\n",
    "from torch.utils.data import Dataset, DataLoader, random_split\n",
    "\n",
    "from train import *\n",
    "from grow_train import *\n",
    "from model import *\n",
    "\n",
    "from torchsummary import summary\n",
    "from torchviz import make_dot\n",
    "\n",
    "import pdfkit\n",
    "import matplotlib.pyplot as plt\n",
    "\n",
    "class MNISTDataset(Dataset):\n",
    "    def __init__(self, root, train=True, transform=None):\n",
    "        self.dataset = datasets.MNIST(root=root, train=train, download=True, transform=transform)\n",
    "\n",
    "    def __len__(self):\n",
    "        return len(self.dataset)\n",
    "\n",
    "    def __getitem__(self, idx):\n",
    "        image, label = self.dataset[idx]\n",
    "        return image, label\n",
    "\n",
    "if __name__ == '__main__':\n",
    "    device = torch.device(\"cuda\" if torch.cuda.is_available() else \"cpu\")\n",
    "        \n",
    "    transform = transforms.Compose([\n",
    "        transforms.ToTensor(),  # 텐서로 변환\n",
    "        transforms.Normalize((0.5,), (0.5,))\n",
    "    ])\n",
    "\n",
    "    full_dataset = MNISTDataset(root='./data', train=True, transform=transform)\n",
    "\n",
    "    train_size = int(0.7 * len(full_dataset))\n",
    "    val_size = int(0.1 * len(full_dataset))\n",
    "    test_size = len(full_dataset) - train_size - val_size\n",
    "    print(train_size, val_size, test_size)\n",
    "    train_dataset, val_dataset, test_dataset = random_split(full_dataset, [train_size, val_size, test_size])\n",
    "\n",
    "\n",
    "    num_epochs = 10\n",
    "    BATCH_SIZE = 16\n",
    "    learning_rate = 0.0001\n",
    "\n",
    "    train_loader = DataLoader(train_dataset, batch_size=BATCH_SIZE, shuffle=True)\n",
    "    val_loader = DataLoader(val_dataset, batch_size=BATCH_SIZE, shuffle=False)\n",
    "    test_loader = DataLoader(test_dataset, batch_size=BATCH_SIZE, shuffle=False)\n",
    "\n",
    "    models = [\n",
    "        \"CNN_MLP\",\n",
    "        \"CNN_ReLUKAN_grow\",\n",
    "        \"CNN_ReLUKAN_nogrow\",\n",
    "        \"CNN_MLP_grow\",\n",
    "        \"CNN_MLP_nogrow\",\n",
    "\n",
    "        \"CNN_ReLUKAN\",\n",
    "        \"CNN_SiLUKAN\",\n",
    "        \"DenseMLP\",\n",
    "        \"DenseReLUKAN\",\n",
    "        \"DenseSiLUKAN\",\n",
    "        \"ReLUKAN_Conv_MLP\",\n",
    "        \"ReLUKAN_Conv_ReLUKAN\",\n",
    "        \"Spiking_DenseMLP\",\n",
    "        \"Spiking_DenseReLUKAN\",\n",
    "        \"ViT\"\n",
    "    ]\n",
    "\n",
    "    save_dict = \"./summary\"\n",
    "    for model_name in models:\n",
    "        print(model_name)\n",
    "        if \"grow\" in model_name:\n",
    "            max_count = 3\n",
    "            module = importlib.import_module(f\"model.{model_name}\")\n",
    "            model_class = getattr(module, model_name)\n",
    "            model = model_class(max_count).to(device)\n",
    "        else:\n",
    "            module = importlib.import_module(f\"model.{model_name}\")\n",
    "            model_class = getattr(module, model_name)\n",
    "            model = model_class().to(device)\n",
    "            optimizer = optim.Adam(model.parameters(), lr=learning_rate)\n",
    "            \n",
    "        params = model.state_dict()\n",
    "\n",
    "        dummy_data = torch.empty(16, 1, 28, 28, dtype = torch.float32).to(device)\n",
    "\n",
    "        torch.onnx.export(model, dummy_data, f\"{save_dict}/{model_name}.onnx\")"
   ]
  },
  {
   "cell_type": "code",
   "execution_count": null,
   "metadata": {},
   "outputs": [
    {
     "name": "stdout",
     "output_type": "stream",
     "text": [
      "CNN_MLP\n",
      "CNN_ReLUKAN_grow\n",
      "CNN_ReLUKAN_nogrow\n",
      "CNN_MLP_grow\n",
      "CNN_MLP_nogrow\n",
      "CNN_ReLUKAN\n",
      "CNN_SiLUKAN\n",
      "DenseMLP\n",
      "DenseReLUKAN\n",
      "DenseSiLUKAN\n",
      "ReLUKAN_Conv_MLP\n",
      "ReLUKAN_Conv_ReLUKAN\n",
      "Spiking_DenseMLP\n",
      "Spiking_DenseReLUKAN\n",
      "ViT\n"
     ]
    }
   ],
   "source": [
    "import os, importlib\n",
    "\n",
    "import torch\n",
    "import torch.nn as nn\n",
    "import torch.optim as optim\n",
    "import torch.onnx\n",
    "from torchinfo import summary\n",
    "\n",
    "if __name__ == '__main__':\n",
    "    device = torch.device(\"cuda\" if torch.cuda.is_available() else \"cpu\")\n",
    "\n",
    "    models = [\n",
    "        \"CNN_MLP\",\n",
    "        \"CNN_ReLUKAN_grow\",\n",
    "        \"CNN_ReLUKAN_nogrow\",\n",
    "        \"CNN_MLP_grow\",\n",
    "        \"CNN_MLP_nogrow\",\n",
    "\n",
    "        \"CNN_ReLUKAN\",\n",
    "        \"CNN_SiLUKAN\",\n",
    "        \"DenseMLP\",\n",
    "        \"DenseReLUKAN\",\n",
    "        \"ReLUKAN_Conv_MLP\",\n",
    "        \"ReLUKAN_Conv_ReLUKAN\",\n",
    "        \"ViT\"\n",
    "    ]\n",
    "\n",
    "    save_dict = \"./summary\"\n",
    "    for model_name in models:\n",
    "        print(model_name)\n",
    "        if \"grow\" in model_name:\n",
    "            max_count = 3\n",
    "            module = importlib.import_module(f\"model.{model_name}\")\n",
    "            model_class = getattr(module, model_name)\n",
    "            model = model_class(max_count).to(device)\n",
    "        else:\n",
    "            module = importlib.import_module(f\"model.{model_name}\")\n",
    "            model_class = getattr(module, model_name)\n",
    "            model = model_class().to(device)\n",
    "            \n",
    "        params = model.state_dict()\n",
    "\n",
    "        dummy_data_1 = torch.empty(16, 1, 28, 28, dtype = torch.float32).to(device)\n",
    "        ss = str(summary(model, [(16, 1, 28, 28)]))\n",
    "        \n",
    "        text_file = open(f\"./torchinfo/{model_name}.txt\", \"w\")\n",
    "        text_file.write(ss)\n",
    "        text_file.close()\n"
   ]
  },
  {
   "cell_type": "code",
   "execution_count": 17,
   "metadata": {},
   "outputs": [
    {
     "data": {
      "text/plain": [
       "tensor([-0.0206,  0.0456, -0.0606, -0.0844, -0.0785, -0.0943,  0.0374,  0.0430,\n",
       "        -0.0038, -0.0741], device='cuda:0')"
      ]
     },
     "execution_count": 17,
     "metadata": {},
     "output_type": "execute_result"
    }
   ],
   "source": [
    "output_spikes[0]"
   ]
  },
  {
   "cell_type": "code",
   "execution_count": null,
   "metadata": {},
   "outputs": [],
   "source": []
  }
 ],
 "metadata": {
  "kernelspec": {
   "display_name": "env",
   "language": "python",
   "name": "python3"
  },
  "language_info": {
   "codemirror_mode": {
    "name": "ipython",
    "version": 3
   },
   "file_extension": ".py",
   "mimetype": "text/x-python",
   "name": "python",
   "nbconvert_exporter": "python",
   "pygments_lexer": "ipython3",
   "version": "3.10.15"
  }
 },
 "nbformat": 4,
 "nbformat_minor": 2
}
